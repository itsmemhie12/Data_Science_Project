{
 "cells": [
  {
   "cell_type": "code",
   "execution_count": 1,
   "id": "e831a933",
   "metadata": {},
   "outputs": [],
   "source": [
    "import pandas as pd\n",
    "import numpy as np\n",
    "import matplotlib.pyplot as plt\n",
    "import seaborn as sns\n",
    "from sklearn import preprocessing \n",
    "import matplotlib.pyplot as plt\n",
    "from sklearn.model_selection import train_test_split\n",
    "from sklearn.linear_model import BayesianRidge\n",
    "from sklearn.ensemble import RandomForestClassifier"
   ]
  },
  {
   "cell_type": "markdown",
   "id": "d5a00eaf",
   "metadata": {},
   "source": [
    "## ETL(Extract, Transform, Load)"
   ]
  },
  {
   "cell_type": "code",
   "execution_count": 125,
   "id": "d66836e0",
   "metadata": {},
   "outputs": [
    {
     "data": {
      "text/html": [
       "<div>\n",
       "<style scoped>\n",
       "    .dataframe tbody tr th:only-of-type {\n",
       "        vertical-align: middle;\n",
       "    }\n",
       "\n",
       "    .dataframe tbody tr th {\n",
       "        vertical-align: top;\n",
       "    }\n",
       "\n",
       "    .dataframe thead th {\n",
       "        text-align: right;\n",
       "    }\n",
       "</style>\n",
       "<table border=\"1\" class=\"dataframe\">\n",
       "  <thead>\n",
       "    <tr style=\"text-align: right;\">\n",
       "      <th></th>\n",
       "      <th>id</th>\n",
       "      <th>gender</th>\n",
       "      <th>age</th>\n",
       "      <th>hypertension</th>\n",
       "      <th>heart_disease</th>\n",
       "      <th>ever_married</th>\n",
       "      <th>work_type</th>\n",
       "      <th>Residence_type</th>\n",
       "      <th>avg_glucose_level</th>\n",
       "      <th>bmi</th>\n",
       "      <th>smoking_status</th>\n",
       "      <th>stroke</th>\n",
       "    </tr>\n",
       "  </thead>\n",
       "  <tbody>\n",
       "    <tr>\n",
       "      <th>0</th>\n",
       "      <td>9046</td>\n",
       "      <td>Male</td>\n",
       "      <td>67.0</td>\n",
       "      <td>0</td>\n",
       "      <td>1</td>\n",
       "      <td>Yes</td>\n",
       "      <td>Private</td>\n",
       "      <td>Urban</td>\n",
       "      <td>228.69</td>\n",
       "      <td>36.6</td>\n",
       "      <td>formerly smoked</td>\n",
       "      <td>1</td>\n",
       "    </tr>\n",
       "    <tr>\n",
       "      <th>1</th>\n",
       "      <td>51676</td>\n",
       "      <td>Female</td>\n",
       "      <td>61.0</td>\n",
       "      <td>0</td>\n",
       "      <td>0</td>\n",
       "      <td>Yes</td>\n",
       "      <td>Self-employed</td>\n",
       "      <td>Rural</td>\n",
       "      <td>202.21</td>\n",
       "      <td>NaN</td>\n",
       "      <td>never smoked</td>\n",
       "      <td>1</td>\n",
       "    </tr>\n",
       "    <tr>\n",
       "      <th>2</th>\n",
       "      <td>31112</td>\n",
       "      <td>Male</td>\n",
       "      <td>80.0</td>\n",
       "      <td>0</td>\n",
       "      <td>1</td>\n",
       "      <td>Yes</td>\n",
       "      <td>Private</td>\n",
       "      <td>Rural</td>\n",
       "      <td>105.92</td>\n",
       "      <td>32.5</td>\n",
       "      <td>never smoked</td>\n",
       "      <td>1</td>\n",
       "    </tr>\n",
       "    <tr>\n",
       "      <th>3</th>\n",
       "      <td>60182</td>\n",
       "      <td>Female</td>\n",
       "      <td>49.0</td>\n",
       "      <td>0</td>\n",
       "      <td>0</td>\n",
       "      <td>Yes</td>\n",
       "      <td>Private</td>\n",
       "      <td>Urban</td>\n",
       "      <td>171.23</td>\n",
       "      <td>34.4</td>\n",
       "      <td>smokes</td>\n",
       "      <td>1</td>\n",
       "    </tr>\n",
       "    <tr>\n",
       "      <th>4</th>\n",
       "      <td>1665</td>\n",
       "      <td>Female</td>\n",
       "      <td>79.0</td>\n",
       "      <td>1</td>\n",
       "      <td>0</td>\n",
       "      <td>Yes</td>\n",
       "      <td>Self-employed</td>\n",
       "      <td>Rural</td>\n",
       "      <td>174.12</td>\n",
       "      <td>24.0</td>\n",
       "      <td>never smoked</td>\n",
       "      <td>1</td>\n",
       "    </tr>\n",
       "  </tbody>\n",
       "</table>\n",
       "</div>"
      ],
      "text/plain": [
       "      id  gender   age  hypertension  heart_disease ever_married  \\\n",
       "0   9046    Male  67.0             0              1          Yes   \n",
       "1  51676  Female  61.0             0              0          Yes   \n",
       "2  31112    Male  80.0             0              1          Yes   \n",
       "3  60182  Female  49.0             0              0          Yes   \n",
       "4   1665  Female  79.0             1              0          Yes   \n",
       "\n",
       "       work_type Residence_type  avg_glucose_level   bmi   smoking_status  \\\n",
       "0        Private          Urban             228.69  36.6  formerly smoked   \n",
       "1  Self-employed          Rural             202.21   NaN     never smoked   \n",
       "2        Private          Rural             105.92  32.5     never smoked   \n",
       "3        Private          Urban             171.23  34.4           smokes   \n",
       "4  Self-employed          Rural             174.12  24.0     never smoked   \n",
       "\n",
       "   stroke  \n",
       "0       1  \n",
       "1       1  \n",
       "2       1  \n",
       "3       1  \n",
       "4       1  "
      ]
     },
     "execution_count": 125,
     "metadata": {},
     "output_type": "execute_result"
    }
   ],
   "source": [
    "data = pd.read_csv('healthcare-dataset-stroke-data.csv')\n",
    "data.head()"
   ]
  },
  {
   "cell_type": "markdown",
   "id": "1f2dc212",
   "metadata": {},
   "source": [
    "### Transfrom"
   ]
  },
  {
   "cell_type": "markdown",
   "id": "eb386e6a",
   "metadata": {},
   "source": [
    "Lets Transform the other column that is category.\n",
    "1) let transform the work type in to 0:Never work, 1:Children, 2:Self-employed, 3:Govt_job, 4:Private <br>\n",
    "2) let transform the smoking_status in to 0:never smoked, 1:Unknown, 2:smokes, 3:formerly smoked <br>\n",
    "3) let transform the Marriage_status in to 0:No and 1:Yes <br>\n",
    "4) Let transform the residence type into 0:Rural and 1:Urban <br>\n",
    "5) Let transform the gender type into 0:Female and 1:Male <br>"
   ]
  },
  {
   "cell_type": "markdown",
   "id": "fc2ffe8e",
   "metadata": {},
   "source": [
    "<b>Data type Transform for WORK<b/>"
   ]
  },
  {
   "cell_type": "code",
   "execution_count": 3,
   "id": "5cf91446",
   "metadata": {},
   "outputs": [
    {
     "data": {
      "text/plain": [
       "array(['Private', 'Self-employed', 'Govt_job', 'children', 'Never_worked'],\n",
       "      dtype=object)"
      ]
     },
     "execution_count": 3,
     "metadata": {},
     "output_type": "execute_result"
    }
   ],
   "source": [
    "data['work_type'].unique()"
   ]
  },
  {
   "cell_type": "code",
   "execution_count": 4,
   "id": "40365ab1",
   "metadata": {},
   "outputs": [
    {
     "data": {
      "text/plain": [
       "[4, 2, 4, 4, 2]"
      ]
     },
     "execution_count": 4,
     "metadata": {},
     "output_type": "execute_result"
    }
   ],
   "source": [
    "# let transform the work type in to 0:Never work, 1:Children, 2:Self-employed, 3:Govt_job, 4:Private\n",
    "type_of_work = []\n",
    "for work in data['work_type']:\n",
    "    if work == \"Never_worked\":\n",
    "        type_of_work.append(0)\n",
    "    elif work == \"children\":\n",
    "        type_of_work.append(1)\n",
    "    if work == \"Self-employed\":\n",
    "        type_of_work.append(2)\n",
    "    elif work == \"Govt_job\":\n",
    "        type_of_work.append(3)\n",
    "    elif work == 'Private':\n",
    "        type_of_work.append(4)\n",
    "        \n",
    "type_of_work[0:5]"
   ]
  },
  {
   "cell_type": "markdown",
   "id": "1046ecae",
   "metadata": {},
   "source": [
    "<b>Data type Transform for Smoking Status<b/>"
   ]
  },
  {
   "cell_type": "code",
   "execution_count": 5,
   "id": "56500d9a",
   "metadata": {},
   "outputs": [
    {
     "data": {
      "text/plain": [
       "array(['formerly smoked', 'never smoked', 'smokes', 'Unknown'],\n",
       "      dtype=object)"
      ]
     },
     "execution_count": 5,
     "metadata": {},
     "output_type": "execute_result"
    }
   ],
   "source": [
    "data[\"smoking_status\"].unique()"
   ]
  },
  {
   "cell_type": "code",
   "execution_count": 6,
   "id": "8f0913c6",
   "metadata": {},
   "outputs": [
    {
     "data": {
      "text/plain": [
       "[3, 0, 0, 2, 0]"
      ]
     },
     "execution_count": 6,
     "metadata": {},
     "output_type": "execute_result"
    }
   ],
   "source": [
    "# let transform the smoking_status in to 0:never smoked, 1:Unknown, 2:smokes, 3:formerly smoked\n",
    "smoking_statusT = []\n",
    "for work in data['smoking_status']:\n",
    "    if work == \"never smoked\":\n",
    "        smoking_statusT.append(0)\n",
    "    elif work == \"Unknown\":\n",
    "        smoking_statusT.append(1)\n",
    "    if work == \"smokes\":\n",
    "        smoking_statusT.append(2)\n",
    "    elif work == 'formerly smoked':\n",
    "        smoking_statusT.append(3)\n",
    "        \n",
    "smoking_statusT[0:5]\n"
   ]
  },
  {
   "cell_type": "markdown",
   "id": "615f13e1",
   "metadata": {},
   "source": [
    "<b>Data type Transform for Married Status<b/>"
   ]
  },
  {
   "cell_type": "code",
   "execution_count": 7,
   "id": "8be385b7",
   "metadata": {},
   "outputs": [
    {
     "data": {
      "text/plain": [
       "array(['Yes', 'No'], dtype=object)"
      ]
     },
     "execution_count": 7,
     "metadata": {},
     "output_type": "execute_result"
    }
   ],
   "source": [
    "data['ever_married'].unique()"
   ]
  },
  {
   "cell_type": "code",
   "execution_count": 8,
   "id": "366e9510",
   "metadata": {},
   "outputs": [
    {
     "data": {
      "text/plain": [
       "[1, 1, 1, 1, 1]"
      ]
     },
     "execution_count": 8,
     "metadata": {},
     "output_type": "execute_result"
    }
   ],
   "source": [
    "# let transform the Marriage_status in to 0:No and 1:Yes\n",
    "Marriage_status = []\n",
    "for marriage in data['ever_married']:\n",
    "    if marriage == \"Yes\":\n",
    "        Marriage_status.append(1)\n",
    "    else:\n",
    "        Marriage_status.append(0)\n",
    "        \n",
    "Marriage_status[0:5]"
   ]
  },
  {
   "cell_type": "markdown",
   "id": "fc75e7d7",
   "metadata": {},
   "source": [
    "<b>Data type Transform for Type of Residency<b/>"
   ]
  },
  {
   "cell_type": "code",
   "execution_count": 9,
   "id": "fa5438ef",
   "metadata": {},
   "outputs": [
    {
     "data": {
      "text/plain": [
       "array(['Urban', 'Rural'], dtype=object)"
      ]
     },
     "execution_count": 9,
     "metadata": {},
     "output_type": "execute_result"
    }
   ],
   "source": [
    "data['Residence_type'].unique()"
   ]
  },
  {
   "cell_type": "code",
   "execution_count": 10,
   "id": "c6d9bf6f",
   "metadata": {},
   "outputs": [
    {
     "data": {
      "text/plain": [
       "[1, 0, 0, 1, 0]"
      ]
     },
     "execution_count": 10,
     "metadata": {},
     "output_type": "execute_result"
    }
   ],
   "source": [
    "# Let transform the residence type into 0:Rural and 1:Urban\n",
    "residence_type = []\n",
    "for residence in data['Residence_type']:\n",
    "    if residence == \"Urban\":\n",
    "        residence_type.append(1)\n",
    "    else:\n",
    "        residence_type.append(0)\n",
    "\n",
    "residence_type[0:5]"
   ]
  },
  {
   "cell_type": "markdown",
   "id": "d81cfe8f",
   "metadata": {},
   "source": [
    "<b>Data type Transform for Gender<b/>"
   ]
  },
  {
   "cell_type": "code",
   "execution_count": 11,
   "id": "44735b38",
   "metadata": {},
   "outputs": [
    {
     "data": {
      "text/plain": [
       "[1, 0, 1, 0, 0]"
      ]
     },
     "execution_count": 11,
     "metadata": {},
     "output_type": "execute_result"
    }
   ],
   "source": [
    "# Let transform the gender type into 0:Female and 1:Male\n",
    "Gender = []\n",
    "for sex in data['gender']:\n",
    "    if sex == \"Male\":\n",
    "        Gender.append(1)\n",
    "    else:\n",
    "        Gender.append(0)\n",
    "\n",
    "Gender[0:5]"
   ]
  },
  {
   "cell_type": "markdown",
   "id": "69986e2d",
   "metadata": {},
   "source": [
    "## Feature Selection"
   ]
  },
  {
   "cell_type": "code",
   "execution_count": 12,
   "id": "b226d01b",
   "metadata": {},
   "outputs": [
    {
     "data": {
      "text/html": [
       "<div>\n",
       "<style scoped>\n",
       "    .dataframe tbody tr th:only-of-type {\n",
       "        vertical-align: middle;\n",
       "    }\n",
       "\n",
       "    .dataframe tbody tr th {\n",
       "        vertical-align: top;\n",
       "    }\n",
       "\n",
       "    .dataframe thead th {\n",
       "        text-align: right;\n",
       "    }\n",
       "</style>\n",
       "<table border=\"1\" class=\"dataframe\">\n",
       "  <thead>\n",
       "    <tr style=\"text-align: right;\">\n",
       "      <th></th>\n",
       "      <th>gender</th>\n",
       "      <th>age</th>\n",
       "      <th>hypertension</th>\n",
       "      <th>heart_disease</th>\n",
       "      <th>ever_married</th>\n",
       "      <th>work_type</th>\n",
       "      <th>Residence_type</th>\n",
       "      <th>avg_glucose_level</th>\n",
       "      <th>bmi</th>\n",
       "      <th>smoking_status</th>\n",
       "      <th>stroke</th>\n",
       "    </tr>\n",
       "  </thead>\n",
       "  <tbody>\n",
       "    <tr>\n",
       "      <th>0</th>\n",
       "      <td>1</td>\n",
       "      <td>67.0</td>\n",
       "      <td>0</td>\n",
       "      <td>1</td>\n",
       "      <td>1</td>\n",
       "      <td>4</td>\n",
       "      <td>1</td>\n",
       "      <td>228.69</td>\n",
       "      <td>36.6</td>\n",
       "      <td>3</td>\n",
       "      <td>1</td>\n",
       "    </tr>\n",
       "    <tr>\n",
       "      <th>1</th>\n",
       "      <td>0</td>\n",
       "      <td>61.0</td>\n",
       "      <td>0</td>\n",
       "      <td>0</td>\n",
       "      <td>1</td>\n",
       "      <td>2</td>\n",
       "      <td>0</td>\n",
       "      <td>202.21</td>\n",
       "      <td>NaN</td>\n",
       "      <td>0</td>\n",
       "      <td>1</td>\n",
       "    </tr>\n",
       "    <tr>\n",
       "      <th>2</th>\n",
       "      <td>1</td>\n",
       "      <td>80.0</td>\n",
       "      <td>0</td>\n",
       "      <td>1</td>\n",
       "      <td>1</td>\n",
       "      <td>4</td>\n",
       "      <td>0</td>\n",
       "      <td>105.92</td>\n",
       "      <td>32.5</td>\n",
       "      <td>0</td>\n",
       "      <td>1</td>\n",
       "    </tr>\n",
       "    <tr>\n",
       "      <th>3</th>\n",
       "      <td>0</td>\n",
       "      <td>49.0</td>\n",
       "      <td>0</td>\n",
       "      <td>0</td>\n",
       "      <td>1</td>\n",
       "      <td>4</td>\n",
       "      <td>1</td>\n",
       "      <td>171.23</td>\n",
       "      <td>34.4</td>\n",
       "      <td>2</td>\n",
       "      <td>1</td>\n",
       "    </tr>\n",
       "    <tr>\n",
       "      <th>4</th>\n",
       "      <td>0</td>\n",
       "      <td>79.0</td>\n",
       "      <td>1</td>\n",
       "      <td>0</td>\n",
       "      <td>1</td>\n",
       "      <td>2</td>\n",
       "      <td>0</td>\n",
       "      <td>174.12</td>\n",
       "      <td>24.0</td>\n",
       "      <td>0</td>\n",
       "      <td>1</td>\n",
       "    </tr>\n",
       "  </tbody>\n",
       "</table>\n",
       "</div>"
      ],
      "text/plain": [
       "   gender   age  hypertension  heart_disease  ever_married  work_type  \\\n",
       "0       1  67.0             0              1             1          4   \n",
       "1       0  61.0             0              0             1          2   \n",
       "2       1  80.0             0              1             1          4   \n",
       "3       0  49.0             0              0             1          4   \n",
       "4       0  79.0             1              0             1          2   \n",
       "\n",
       "   Residence_type  avg_glucose_level   bmi  smoking_status  stroke  \n",
       "0               1             228.69  36.6               3       1  \n",
       "1               0             202.21   NaN               0       1  \n",
       "2               0             105.92  32.5               0       1  \n",
       "3               1             171.23  34.4               2       1  \n",
       "4               0             174.12  24.0               0       1  "
      ]
     },
     "execution_count": 12,
     "metadata": {},
     "output_type": "execute_result"
    }
   ],
   "source": [
    "data['gender'] = Gender\n",
    "data['ever_married'] = Marriage_status\n",
    "data['work_type'] = type_of_work\n",
    "data['Residence_type'] = residence_type\n",
    "data['smoking_status'] = smoking_statusT\n",
    "data.head()\n",
    "x = data.drop(columns = ['id'])\n",
    "x.head()"
   ]
  },
  {
   "cell_type": "code",
   "execution_count": 13,
   "id": "df692b67",
   "metadata": {},
   "outputs": [
    {
     "name": "stdout",
     "output_type": "stream",
     "text": [
      "<class 'pandas.core.frame.DataFrame'>\n",
      "RangeIndex: 5110 entries, 0 to 5109\n",
      "Data columns (total 11 columns):\n",
      " #   Column             Non-Null Count  Dtype  \n",
      "---  ------             --------------  -----  \n",
      " 0   gender             5110 non-null   int64  \n",
      " 1   age                5110 non-null   float64\n",
      " 2   hypertension       5110 non-null   int64  \n",
      " 3   heart_disease      5110 non-null   int64  \n",
      " 4   ever_married       5110 non-null   int64  \n",
      " 5   work_type          5110 non-null   int64  \n",
      " 6   Residence_type     5110 non-null   int64  \n",
      " 7   avg_glucose_level  5110 non-null   float64\n",
      " 8   bmi                4909 non-null   float64\n",
      " 9   smoking_status     5110 non-null   int64  \n",
      " 10  stroke             5110 non-null   int64  \n",
      "dtypes: float64(3), int64(8)\n",
      "memory usage: 439.3 KB\n"
     ]
    }
   ],
   "source": [
    "# Lets find what column have a null value\n",
    "x.info()"
   ]
  },
  {
   "cell_type": "markdown",
   "id": "6a88278b",
   "metadata": {},
   "source": [
    "#### As you can see the column bmi is the only column have a null value which is have a total of 5110 - 4909 = 201 null values."
   ]
  },
  {
   "cell_type": "markdown",
   "id": "9123fdcf",
   "metadata": {},
   "source": [
    "### Drop NaN value on the avg_glucose _level"
   ]
  },
  {
   "cell_type": "code",
   "execution_count": 14,
   "id": "11d8b4a0",
   "metadata": {},
   "outputs": [
    {
     "name": "stdout",
     "output_type": "stream",
     "text": [
      "<class 'pandas.core.frame.DataFrame'>\n",
      "Int64Index: 4909 entries, 0 to 5109\n",
      "Data columns (total 11 columns):\n",
      " #   Column             Non-Null Count  Dtype  \n",
      "---  ------             --------------  -----  \n",
      " 0   gender             4909 non-null   int64  \n",
      " 1   age                4909 non-null   float64\n",
      " 2   hypertension       4909 non-null   int64  \n",
      " 3   heart_disease      4909 non-null   int64  \n",
      " 4   ever_married       4909 non-null   int64  \n",
      " 5   work_type          4909 non-null   int64  \n",
      " 6   Residence_type     4909 non-null   int64  \n",
      " 7   avg_glucose_level  4909 non-null   float64\n",
      " 8   bmi                4909 non-null   float64\n",
      " 9   smoking_status     4909 non-null   int64  \n",
      " 10  stroke             4909 non-null   int64  \n",
      "dtypes: float64(3), int64(8)\n",
      "memory usage: 460.2 KB\n"
     ]
    }
   ],
   "source": [
    "# now lets removed a row that bmi have a null value\n",
    "x = x.dropna(subset = ['bmi'])\n",
    "x.info()"
   ]
  },
  {
   "cell_type": "code",
   "execution_count": 15,
   "id": "0b49df09",
   "metadata": {},
   "outputs": [
    {
     "data": {
      "image/png": "[encoded data removed]",
      "text/plain": [
       "<Figure size 720x576 with 2 Axes>"
      ]
     },
     "metadata": {
      "needs_background": "light"
     },
     "output_type": "display_data"
    }
   ],
   "source": [
    "#so we will know if there's who have a high corellation on the stroke in each column/attribute on the data.\n",
    "#Using Coefficient of Determination (R^2)\n",
    "plt.figure(figsize=(10,8))\n",
    "cor = x.corr()\n",
    "sns.heatmap(cor, annot=True, cmap=plt.cm.Reds)\n",
    "plt.show()"
   ]
  },
  {
   "cell_type": "code",
   "execution_count": 16,
   "id": "63142733",
   "metadata": {},
   "outputs": [
    {
     "data": {
      "text/plain": [
       "Residence_type    0.006031\n",
       "gender            0.006939\n",
       "work_type         0.040036\n",
       "smoking_status    0.041694\n",
       "bmi               0.042374\n",
       "Name: stroke, dtype: float64"
      ]
     },
     "execution_count": 16,
     "metadata": {},
     "output_type": "execute_result"
    }
   ],
   "source": [
    "correlated_data = x.corr().sort_values(by = 'stroke', ascending = True)\n",
    "stroke_corr = correlated_data['stroke']\n",
    "stroke_corr.head()"
   ]
  },
  {
   "cell_type": "code",
   "execution_count": 17,
   "id": "7cf58bd4",
   "metadata": {},
   "outputs": [
    {
     "data": {
      "image/png": "[encoded data removed]",
      "text/plain": [
       "<Figure size 1080x504 with 1 Axes>"
      ]
     },
     "metadata": {
      "needs_background": "light"
     },
     "output_type": "display_data"
    }
   ],
   "source": [
    "x.plot.kde(ind=100, legend=True, figsize=(15,7))\n",
    "plt.title('Stroke Attribute');"
   ]
  },
  {
   "cell_type": "markdown",
   "id": "1e7594b2",
   "metadata": {},
   "source": [
    "# Data Modelling"
   ]
  },
  {
   "cell_type": "markdown",
   "id": "48629e4a",
   "metadata": {},
   "source": [
    "### Feature Selection"
   ]
  },
  {
   "cell_type": "code",
   "execution_count": 18,
   "id": "1769ceb9",
   "metadata": {},
   "outputs": [
    {
     "data": {
      "text/html": [
       "<div>\n",
       "<style scoped>\n",
       "    .dataframe tbody tr th:only-of-type {\n",
       "        vertical-align: middle;\n",
       "    }\n",
       "\n",
       "    .dataframe tbody tr th {\n",
       "        vertical-align: top;\n",
       "    }\n",
       "\n",
       "    .dataframe thead th {\n",
       "        text-align: right;\n",
       "    }\n",
       "</style>\n",
       "<table border=\"1\" class=\"dataframe\">\n",
       "  <thead>\n",
       "    <tr style=\"text-align: right;\">\n",
       "      <th></th>\n",
       "      <th>gender</th>\n",
       "      <th>age</th>\n",
       "      <th>hypertension</th>\n",
       "      <th>heart_disease</th>\n",
       "      <th>ever_married</th>\n",
       "      <th>work_type</th>\n",
       "      <th>Residence_type</th>\n",
       "      <th>avg_glucose_level</th>\n",
       "      <th>bmi</th>\n",
       "      <th>smoking_status</th>\n",
       "    </tr>\n",
       "  </thead>\n",
       "  <tbody>\n",
       "    <tr>\n",
       "      <th>0</th>\n",
       "      <td>1</td>\n",
       "      <td>67.0</td>\n",
       "      <td>0</td>\n",
       "      <td>1</td>\n",
       "      <td>1</td>\n",
       "      <td>4</td>\n",
       "      <td>1</td>\n",
       "      <td>228.69</td>\n",
       "      <td>36.6</td>\n",
       "      <td>3</td>\n",
       "    </tr>\n",
       "    <tr>\n",
       "      <th>2</th>\n",
       "      <td>1</td>\n",
       "      <td>80.0</td>\n",
       "      <td>0</td>\n",
       "      <td>1</td>\n",
       "      <td>1</td>\n",
       "      <td>4</td>\n",
       "      <td>0</td>\n",
       "      <td>105.92</td>\n",
       "      <td>32.5</td>\n",
       "      <td>0</td>\n",
       "    </tr>\n",
       "    <tr>\n",
       "      <th>3</th>\n",
       "      <td>0</td>\n",
       "      <td>49.0</td>\n",
       "      <td>0</td>\n",
       "      <td>0</td>\n",
       "      <td>1</td>\n",
       "      <td>4</td>\n",
       "      <td>1</td>\n",
       "      <td>171.23</td>\n",
       "      <td>34.4</td>\n",
       "      <td>2</td>\n",
       "    </tr>\n",
       "    <tr>\n",
       "      <th>4</th>\n",
       "      <td>0</td>\n",
       "      <td>79.0</td>\n",
       "      <td>1</td>\n",
       "      <td>0</td>\n",
       "      <td>1</td>\n",
       "      <td>2</td>\n",
       "      <td>0</td>\n",
       "      <td>174.12</td>\n",
       "      <td>24.0</td>\n",
       "      <td>0</td>\n",
       "    </tr>\n",
       "    <tr>\n",
       "      <th>5</th>\n",
       "      <td>1</td>\n",
       "      <td>81.0</td>\n",
       "      <td>0</td>\n",
       "      <td>0</td>\n",
       "      <td>1</td>\n",
       "      <td>4</td>\n",
       "      <td>1</td>\n",
       "      <td>186.21</td>\n",
       "      <td>29.0</td>\n",
       "      <td>3</td>\n",
       "    </tr>\n",
       "  </tbody>\n",
       "</table>\n",
       "</div>"
      ],
      "text/plain": [
       "   gender   age  hypertension  heart_disease  ever_married  work_type  \\\n",
       "0       1  67.0             0              1             1          4   \n",
       "2       1  80.0             0              1             1          4   \n",
       "3       0  49.0             0              0             1          4   \n",
       "4       0  79.0             1              0             1          2   \n",
       "5       1  81.0             0              0             1          4   \n",
       "\n",
       "   Residence_type  avg_glucose_level   bmi  smoking_status  \n",
       "0               1             228.69  36.6               3  \n",
       "2               0             105.92  32.5               0  \n",
       "3               1             171.23  34.4               2  \n",
       "4               0             174.12  24.0               0  \n",
       "5               1             186.21  29.0               3  "
      ]
     },
     "execution_count": 18,
     "metadata": {},
     "output_type": "execute_result"
    }
   ],
   "source": [
    "X = x[['gender', 'age', 'hypertension', 'heart_disease', 'ever_married', 'work_type', 'Residence_type', 'avg_glucose_level', 'bmi','smoking_status' ]]\n",
    "X.head()"
   ]
  },
  {
   "cell_type": "code",
   "execution_count": 19,
   "id": "b20bf10f",
   "metadata": {},
   "outputs": [
    {
     "data": {
      "text/html": [
       "<div>\n",
       "<style scoped>\n",
       "    .dataframe tbody tr th:only-of-type {\n",
       "        vertical-align: middle;\n",
       "    }\n",
       "\n",
       "    .dataframe tbody tr th {\n",
       "        vertical-align: top;\n",
       "    }\n",
       "\n",
       "    .dataframe thead th {\n",
       "        text-align: right;\n",
       "    }\n",
       "</style>\n",
       "<table border=\"1\" class=\"dataframe\">\n",
       "  <thead>\n",
       "    <tr style=\"text-align: right;\">\n",
       "      <th></th>\n",
       "      <th>stroke</th>\n",
       "    </tr>\n",
       "  </thead>\n",
       "  <tbody>\n",
       "    <tr>\n",
       "      <th>0</th>\n",
       "      <td>1</td>\n",
       "    </tr>\n",
       "    <tr>\n",
       "      <th>2</th>\n",
       "      <td>1</td>\n",
       "    </tr>\n",
       "    <tr>\n",
       "      <th>3</th>\n",
       "      <td>1</td>\n",
       "    </tr>\n",
       "    <tr>\n",
       "      <th>4</th>\n",
       "      <td>1</td>\n",
       "    </tr>\n",
       "    <tr>\n",
       "      <th>5</th>\n",
       "      <td>1</td>\n",
       "    </tr>\n",
       "  </tbody>\n",
       "</table>\n",
       "</div>"
      ],
      "text/plain": [
       "   stroke\n",
       "0       1\n",
       "2       1\n",
       "3       1\n",
       "4       1\n",
       "5       1"
      ]
     },
     "execution_count": 19,
     "metadata": {},
     "output_type": "execute_result"
    }
   ],
   "source": [
    "y = x[['stroke']]\n",
    "y.head()"
   ]
  },
  {
   "cell_type": "code",
   "execution_count": 20,
   "id": "8936f62f",
   "metadata": {},
   "outputs": [
    {
     "data": {
      "text/plain": [
       "array([[ 1.20044746,  1.07013796, -0.31806673,  4.38196829,  0.72948428,\n",
       "         0.76450051,  0.98563987,  2.77769839,  0.98134488,  1.72434754],\n",
       "       [ 1.20044746,  1.64656262, -0.31806673,  4.38196829,  0.72948428,\n",
       "         0.76450051, -1.01456935,  0.0138418 ,  0.45926914, -1.01833161],\n",
       "       [-0.83302272,  0.27201152, -0.31806673, -0.22820795,  0.72948428,\n",
       "         0.76450051,  0.98563987,  1.48413156,  0.70120668,  0.81012116],\n",
       "       [-0.83302272,  1.60222226,  3.14399438, -0.22820795,  0.72948428,\n",
       "        -0.98879686, -1.01456935,  1.54919261, -0.62308299, -1.01833161],\n",
       "       [ 1.20044746,  1.69090297, -0.31806673, -0.22820795,  0.72948428,\n",
       "         0.76450051,  0.98563987,  1.82136844,  0.01359474,  1.72434754]])"
      ]
     },
     "execution_count": 20,
     "metadata": {},
     "output_type": "execute_result"
    }
   ],
   "source": [
    "X = preprocessing.StandardScaler().fit(X).transform(X)\n",
    "X[0:5]"
   ]
  },
  {
   "cell_type": "code",
   "execution_count": 21,
   "id": "f07a5cb0",
   "metadata": {},
   "outputs": [
    {
     "data": {
      "image/png": "[encoded data removed]",
      "text/plain": [
       "<Figure size 1080x504 with 1 Axes>"
      ]
     },
     "metadata": {
      "needs_background": "light"
     },
     "output_type": "display_data"
    }
   ],
   "source": [
    "stan_data = pd.DataFrame(X)\n",
    "stan_data.plot.kde(ind=100, legend=True, figsize=(15,7))\n",
    "plt.title('Data After Standardization (Stroke Attribute)');"
   ]
  },
  {
   "cell_type": "markdown",
   "id": "844ec6fc",
   "metadata": {},
   "source": [
    "### Creating test and train data coming from the dataset"
   ]
  },
  {
   "cell_type": "code",
   "execution_count": 22,
   "id": "c7d0ecb7",
   "metadata": {},
   "outputs": [
    {
     "name": "stdout",
     "output_type": "stream",
     "text": [
      "Train set: (3436, 10) (3436, 1)\n",
      "Test set: (1473, 10) (1473, 1)\n"
     ]
    }
   ],
   "source": [
    "X_train, X_test, y_train, y_test = train_test_split(X, y, test_size=0.3, random_state=4)\n",
    "print ('Train set:', X_train.shape,  y_train.shape)\n",
    "print ('Test set:', X_test.shape,  y_test.shape)"
   ]
  },
  {
   "cell_type": "markdown",
   "id": "3958b027",
   "metadata": {},
   "source": [
    "### Random Forest Model"
   ]
  },
  {
   "cell_type": "code",
   "execution_count": 27,
   "id": "2d12eb75",
   "metadata": {},
   "outputs": [
    {
     "name": "stderr",
     "output_type": "stream",
     "text": [
      "<ipython-input-27-a29eaea300bc>:2: DataConversionWarning: A column-vector y was passed when a 1d array was expected. Please change the shape of y to (n_samples,), for example using ravel().\n",
      "  RFM = RF.fit(X_train, y_train)\n"
     ]
    }
   ],
   "source": [
    "RF = RandomForestClassifier( max_depth= 10, random_state=0, n_estimators=10)\n",
    "RFF = RF.fit(X_train, y_train)"
   ]
  },
  {
   "cell_type": "code",
   "execution_count": 31,
   "id": "2c449b4c",
   "metadata": {},
   "outputs": [
    {
     "name": "stdout",
     "output_type": "stream",
     "text": [
      "Random Forest Train Score: 0.9743888242142026\n",
      "Random Forest Test Score: 0.9606245756958588\n"
     ]
    }
   ],
   "source": [
    "#Get the Score of Random Forest Classifier both Train and Test\n",
    "RFM_Train = RF.score(X_train, y_train)\n",
    "RFM_Test = clf.score(X_test, y_test)\n",
    "print('Random Forest Train Score: ' + str(RFM_Train))\n",
    "print('Random Forest Test Score: ' + str(RFM_Test))"
   ]
  },
  {
   "cell_type": "code",
   "execution_count": 36,
   "id": "f7c5ca19",
   "metadata": {},
   "outputs": [
    {
     "data": {
      "text/plain": [
       "array([0, 0, 0, 0, 0], dtype=int64)"
      ]
     },
     "execution_count": 36,
     "metadata": {},
     "output_type": "execute_result"
    }
   ],
   "source": [
    "#Predict value of RFM\n",
    "RFM_pred = RFM.predict(X_test)\n",
    "RFM_pred[0:5]"
   ]
  },
  {
   "cell_type": "markdown",
   "id": "558b1e91",
   "metadata": {},
   "source": [
    "### Logistic Regression Classifier"
   ]
  },
  {
   "cell_type": "code",
   "execution_count": 33,
   "id": "17f33237",
   "metadata": {},
   "outputs": [
    {
     "name": "stderr",
     "output_type": "stream",
     "text": [
      "c:\\users\\lenovo\\appdata\\local\\programs\\python\\python39\\lib\\site-packages\\sklearn\\utils\\validation.py:63: DataConversionWarning: A column-vector y was passed when a 1d array was expected. Please change the shape of y to (n_samples, ), for example using ravel().\n",
      "  return f(*args, **kwargs)\n"
     ]
    }
   ],
   "source": [
    "from sklearn.linear_model import LogisticRegression\n",
    "LRC = LogisticRegression(random_state=0)\n",
    "LRCF = LRC.fit(X_train, y_train)"
   ]
  },
  {
   "cell_type": "code",
   "execution_count": 34,
   "id": "b20fbbdf",
   "metadata": {},
   "outputs": [
    {
     "name": "stdout",
     "output_type": "stream",
     "text": [
      "Logistic Regression Classifier Train Score: 0.9551804423748544\n",
      "Logistic Regression Classifier Test Score: 0.9626612355736592\n"
     ]
    }
   ],
   "source": [
    "#Get the Score of Logistic Regression Classifier both Train and Test\n",
    "LRC_Train = LRC.score(X_train, y_train)\n",
    "LRC_Test = LRC.score(X_test, y_test)\n",
    "print('Logistic Regression Classifier Train Score: ' + str(LRC_Train))\n",
    "print('Logistic Regression Classifier Test Score: ' + str(LRC_Test))"
   ]
  },
  {
   "cell_type": "code",
   "execution_count": 56,
   "id": "f6eb0258",
   "metadata": {},
   "outputs": [
    {
     "data": {
      "text/plain": [
       "array([0, 0, 0, 0, 0], dtype=int64)"
      ]
     },
     "execution_count": 56,
     "metadata": {},
     "output_type": "execute_result"
    }
   ],
   "source": [
    "#Predict value of LRC\n",
    "LRC_pred = LRC.predict(X_test)\n",
    "LRC_pred[0:5]"
   ]
  },
  {
   "cell_type": "markdown",
   "id": "57ebd975",
   "metadata": {},
   "source": [
    "### Support Vector Machine (SVM)"
   ]
  },
  {
   "cell_type": "code",
   "execution_count": 57,
   "id": "4a71606a",
   "metadata": {},
   "outputs": [
    {
     "name": "stderr",
     "output_type": "stream",
     "text": [
      "c:\\users\\lenovo\\appdata\\local\\programs\\python\\python39\\lib\\site-packages\\sklearn\\utils\\validation.py:63: DataConversionWarning: A column-vector y was passed when a 1d array was expected. Please change the shape of y to (n_samples, ), for example using ravel().\n",
      "  return f(*args, **kwargs)\n"
     ]
    }
   ],
   "source": [
    "from sklearn import svm\n",
    "SVM = svm.SVC()\n",
    "SVMF = SVM.fit(X_train, y_train)"
   ]
  },
  {
   "cell_type": "code",
   "execution_count": 58,
   "id": "2438b768",
   "metadata": {},
   "outputs": [
    {
     "name": "stdout",
     "output_type": "stream",
     "text": [
      "Support Vector Machine Train Score: 0.9551804423748544\n",
      "Support Vector Machine Test Score: 0.9626612355736592\n"
     ]
    }
   ],
   "source": [
    "#Get the Score of Support Vector Machine both Train and Test\n",
    "SVM_Train = SVM.score(X_train, y_train)\n",
    "SVM_Test = SVM.score(X_test, y_test)\n",
    "print('Support Vector Machine Train Score: ' + str(SVM_Train))\n",
    "print('Support Vector Machine Test Score: ' + str(SVM_Test))"
   ]
  },
  {
   "cell_type": "code",
   "execution_count": 59,
   "id": "8fd463ec",
   "metadata": {},
   "outputs": [
    {
     "data": {
      "text/plain": [
       "array([0, 0, 0, 0, 0], dtype=int64)"
      ]
     },
     "execution_count": 59,
     "metadata": {},
     "output_type": "execute_result"
    }
   ],
   "source": [
    "#Predict value of SVM\n",
    "SVM_pred = SVM.predict(X_test)\n",
    "SVM_pred[0:5]"
   ]
  },
  {
   "cell_type": "markdown",
   "id": "1a5b24e4",
   "metadata": {},
   "source": [
    "### KNN Classifier"
   ]
  },
  {
   "cell_type": "code",
   "execution_count": 60,
   "id": "11e35a99",
   "metadata": {},
   "outputs": [
    {
     "name": "stderr",
     "output_type": "stream",
     "text": [
      "c:\\users\\lenovo\\appdata\\local\\programs\\python\\python39\\lib\\site-packages\\sklearn\\neighbors\\_classification.py:179: DataConversionWarning: A column-vector y was passed when a 1d array was expected. Please change the shape of y to (n_samples,), for example using ravel().\n",
      "  return self._fit(X, y)\n"
     ]
    }
   ],
   "source": [
    "from sklearn.neighbors import KNeighborsClassifier\n",
    "neigh = KNeighborsClassifier(n_neighbors=10)\n",
    "KNNF = neigh.fit(X_train, y_train)"
   ]
  },
  {
   "cell_type": "code",
   "execution_count": 61,
   "id": "5ec1dc3c",
   "metadata": {},
   "outputs": [
    {
     "name": "stdout",
     "output_type": "stream",
     "text": [
      "KNN Classifier Train Score: 0.9551804423748544\n",
      "KNN Classifier Machine Test Score: 0.9626612355736592\n"
     ]
    }
   ],
   "source": [
    "#Get the Score of KNN Classifier both Train and Test\n",
    "KNN_Train = neigh.score(X_train, y_train)\n",
    "KNN_Test = neigh.score(X_test, y_test)\n",
    "print('KNN Classifier Train Score: ' + str(KNN_Train))\n",
    "print('KNN Classifier Machine Test Score: ' + str(KNN_Test))"
   ]
  },
  {
   "cell_type": "code",
   "execution_count": 62,
   "id": "4017f657",
   "metadata": {},
   "outputs": [
    {
     "data": {
      "text/plain": [
       "array([0, 0, 0, 0, 0], dtype=int64)"
      ]
     },
     "execution_count": 62,
     "metadata": {},
     "output_type": "execute_result"
    }
   ],
   "source": [
    "#Predict value of KNN\n",
    "KNN_pred = neigh.predict(X_test)\n",
    "KNN_pred[0:5]"
   ]
  },
  {
   "cell_type": "markdown",
   "id": "e8e4768c",
   "metadata": {},
   "source": [
    "### Naive Bayes Classifier "
   ]
  },
  {
   "cell_type": "code",
   "execution_count": 63,
   "id": "f9ee01be",
   "metadata": {},
   "outputs": [
    {
     "name": "stderr",
     "output_type": "stream",
     "text": [
      "c:\\users\\lenovo\\appdata\\local\\programs\\python\\python39\\lib\\site-packages\\sklearn\\utils\\validation.py:63: DataConversionWarning: A column-vector y was passed when a 1d array was expected. Please change the shape of y to (n_samples, ), for example using ravel().\n",
      "  return f(*args, **kwargs)\n"
     ]
    }
   ],
   "source": [
    "from sklearn.naive_bayes import GaussianNB\n",
    "NBC = GaussianNB()\n",
    "NBCF = NBC.fit(X_train, y_train)"
   ]
  },
  {
   "cell_type": "code",
   "execution_count": 64,
   "id": "94762c14",
   "metadata": {},
   "outputs": [
    {
     "name": "stdout",
     "output_type": "stream",
     "text": [
      "Naive Bayes Classifier Train Score: 0.8672875436554133\n",
      "Naive Bayes Classifier Test Score: 0.8866259334691107\n"
     ]
    }
   ],
   "source": [
    "#Get the Score of Naive Bayes Classifier both Train and Test\n",
    "NBC_Train = NBC.score(X_train, y_train)\n",
    "NBC_Test = NBC.score(X_test, y_test)\n",
    "print('Naive Bayes Classifier Train Score: ' + str(NBC_Train))\n",
    "print('Naive Bayes Classifier Test Score: ' + str(NBC_Test))"
   ]
  },
  {
   "cell_type": "code",
   "execution_count": 65,
   "id": "e2b5893a",
   "metadata": {},
   "outputs": [
    {
     "data": {
      "text/plain": [
       "array([1, 0, 0, 0, 0], dtype=int64)"
      ]
     },
     "execution_count": 65,
     "metadata": {},
     "output_type": "execute_result"
    }
   ],
   "source": [
    "#Predict value of Naive Bayes Classifier\n",
    "NBC_pred = NBC.predict(X_test)\n",
    "NBC_pred[0:5]"
   ]
  },
  {
   "cell_type": "markdown",
   "id": "94fba66e",
   "metadata": {},
   "source": [
    "### XGB Regression Classifier"
   ]
  },
  {
   "cell_type": "code",
   "execution_count": 102,
   "id": "9940cc34",
   "metadata": {},
   "outputs": [
    {
     "data": {
      "text/plain": [
       "XGBRegressor(base_score=0.5, booster='gbtree', colsample_bylevel=1,\n",
       "             colsample_bynode=1, colsample_bytree=1, gamma=0, gpu_id=-1,\n",
       "             importance_type='gain', interaction_constraints='',\n",
       "             learning_rate=0.1, max_delta_step=0, max_depth=5,\n",
       "             min_child_weight=1, missing=nan, monotone_constraints='()',\n",
       "             n_estimators=100, n_jobs=4, num_parallel_tree=1, random_state=0,\n",
       "             reg_alpha=0, reg_lambda=1, scale_pos_weight=1, subsample=1,\n",
       "             tree_method='exact', validate_parameters=1, verbosity=None)"
      ]
     },
     "execution_count": 102,
     "metadata": {},
     "output_type": "execute_result"
    }
   ],
   "source": [
    "from xgboost import XGBRegressor\n",
    "xgb = XGBRegressor(booster = 'gbtree', learning_rate = 0.1, max_depth = 5, n_estimators = 100)\n",
    "xgb.fit(X_train, y_train)"
   ]
  },
  {
   "cell_type": "code",
   "execution_count": 103,
   "id": "ac176fb4",
   "metadata": {},
   "outputs": [
    {
     "name": "stdout",
     "output_type": "stream",
     "text": [
      "XGB Regression Classifier Train Score: 0.6004014048639734\n",
      "XGB Regression Classifier Test Score: -0.017107063052090643\n"
     ]
    }
   ],
   "source": [
    "#Get the Score of XGB Regression Classifier both Train and Test\n",
    "XGB_Train = xgb.score(X_train, y_train)\n",
    "XGB_Test = xgb.score(X_test, y_test)\n",
    "print('XGB Regression Classifier Train Score: ' + str(XGB_Train))\n",
    "print('XGB Regression Classifier Test Score: ' + str(XGB_Test))"
   ]
  },
  {
   "cell_type": "code",
   "execution_count": 105,
   "id": "8864e149",
   "metadata": {},
   "outputs": [
    {
     "data": {
      "text/plain": [
       "array([ 0.0170413 , -0.00375121, -0.00454454,  0.01533975,  0.03596258],\n",
       "      dtype=float32)"
      ]
     },
     "execution_count": 105,
     "metadata": {},
     "output_type": "execute_result"
    }
   ],
   "source": [
    "#Predict value of XGB Regression Classifier\n",
    "XGB_pred = xgb.predict(X_test)\n",
    "XGB_pred[0:5]"
   ]
  },
  {
   "cell_type": "markdown",
   "id": "ee735b55",
   "metadata": {},
   "source": [
    "### Gradient Boosting CLassifier"
   ]
  },
  {
   "cell_type": "code",
   "execution_count": 108,
   "id": "1de19b3c",
   "metadata": {},
   "outputs": [
    {
     "name": "stderr",
     "output_type": "stream",
     "text": [
      "c:\\users\\lenovo\\appdata\\local\\programs\\python\\python39\\lib\\site-packages\\sklearn\\utils\\validation.py:63: DataConversionWarning: A column-vector y was passed when a 1d array was expected. Please change the shape of y to (n_samples, ), for example using ravel().\n",
      "  return f(*args, **kwargs)\n"
     ]
    }
   ],
   "source": [
    "from sklearn.ensemble import GradientBoostingClassifier\n",
    "GBC = GradientBoostingClassifier(n_estimators=100, learning_rate=1.0,max_depth=1, random_state=0)\n",
    "GBCF = GBC.fit(X_train, y_train)"
   ]
  },
  {
   "cell_type": "code",
   "execution_count": 109,
   "id": "06c50f7e",
   "metadata": {},
   "outputs": [
    {
     "name": "stdout",
     "output_type": "stream",
     "text": [
      "Gradient Boosting Classifier Train Score: 0.9580908032596042\n",
      "Gradient Boosting Classifier Test Score: 0.9613034623217923\n"
     ]
    }
   ],
   "source": [
    "#Get the Score of Gradient Boosting Classifier both Train and Test\n",
    "GBC_Train = GBC.score(X_train, y_train)\n",
    "GBC_Test = GBC.score(X_test, y_test)\n",
    "print('Gradient Boosting Classifier Train Score: ' + str(GBC_Train))\n",
    "print('Gradient Boosting Classifier Test Score: ' + str(GBC_Test))"
   ]
  },
  {
   "cell_type": "code",
   "execution_count": 110,
   "id": "b3416bbf",
   "metadata": {},
   "outputs": [
    {
     "data": {
      "text/plain": [
       "array([0, 0, 0, 0, 0], dtype=int64)"
      ]
     },
     "execution_count": 110,
     "metadata": {},
     "output_type": "execute_result"
    }
   ],
   "source": [
    "#Predict value of Gradient Boosting Classifier\n",
    "GBC_pred = GBC.predict(X_test)\n",
    "GBC_pred[0:5]"
   ]
  },
  {
   "cell_type": "markdown",
   "id": "20fdcf69",
   "metadata": {},
   "source": [
    "### Computing ROC and AUROC Value"
   ]
  },
  {
   "cell_type": "markdown",
   "id": "5848b459",
   "metadata": {},
   "source": [
    "#### Calculate AUROC Value"
   ]
  },
  {
   "cell_type": "code",
   "execution_count": 112,
   "id": "1b95f556",
   "metadata": {},
   "outputs": [
    {
     "name": "stdout",
     "output_type": "stream",
     "text": [
      "Random Chance Prediction AUROC: 0.5\n",
      "Random Forest AUROC: 0.49894217207334274\n",
      "Logistic Regression Classifier AUROC: 0.5\n",
      "Support Vector Machine AUROC: 0.5\n",
      "KNN Classifier AUROC: 0.5\n",
      "Naive Bayes Classifier AUROC: 0.7051801513014488\n",
      "XGB Regression Classifier AUROC: 0.793050391075779\n",
      "Gradient Boosting Classifier AUROC: 0.4992947813822285\n"
     ]
    }
   ],
   "source": [
    "from sklearn.metrics import roc_curve, roc_auc_score\n",
    "r_probs = [0 for _ in range(len(y_test))]\n",
    "# Calculate the AUROC\n",
    "r_auc = roc_auc_score(y_test, r_probs) \n",
    "RF_auc = roc_auc_score(y_test, RFM_pred)\n",
    "LRC_auc = roc_auc_score(y_test, LRC_pred)\n",
    "SVM_auc = roc_auc_score(y_test, SVM_pred)\n",
    "KNN_auc = roc_auc_score(y_test, KNN_pred)\n",
    "NBC_auc = roc_auc_score(y_test, NBC_pred)\n",
    "XGB_auc = roc_auc_score(y_test, XGB_pred)\n",
    "GBC_auc = roc_auc_score(y_test, GBC_pred)\n",
    "\n",
    "print('Random Chance Prediction AUROC: ' + str(r_auc))\n",
    "print('Random Forest AUROC: ' + str(RF_auc))\n",
    "print('Logistic Regression Classifier AUROC: ' + str(LRC_auc))\n",
    "print('Support Vector Machine AUROC: ' + str(SVM_auc))\n",
    "print('KNN Classifier AUROC: ' + str(KNN_auc))\n",
    "print('Naive Bayes Classifier AUROC: ' + str(NBC_auc))\n",
    "print('XGB Regression Classifier AUROC: ' + str(XGB_auc))\n",
    "print('Gradient Boosting Classifier AUROC: ' + str(GBC_auc))"
   ]
  },
  {
   "cell_type": "markdown",
   "id": "d49d67eb",
   "metadata": {},
   "source": [
    "#### Calculate ROC Value "
   ]
  },
  {
   "cell_type": "code",
   "execution_count": 113,
   "id": "3750f310",
   "metadata": {},
   "outputs": [],
   "source": [
    "r_fpr, r_tpr, _ = roc_curve(y_test, r_probs) \n",
    "RF_fpr, RF_tpr, _ = roc_curve(y_test, RFM_pred)\n",
    "LRC_fpr, LRC_tpr, _ = roc_curve(y_test, LRC_pred)\n",
    "SVM_fpr, SVM_tpr, _ = roc_curve(y_test, SVM_pred)\n",
    "KNN_fpr, KNN_tpr, _ = roc_curve(y_test, KNN_pred)\n",
    "NBC_fpr, NBC_tpr,_ = roc_curve(y_test, NBC_pred)\n",
    "XGB_fpr, XGB_tpr,_ = roc_curve(y_test, XGB_pred)\n",
    "GBC_fpr, GBC_tpr,_ = roc_curve(y_test, GBC_pred)"
   ]
  },
  {
   "cell_type": "markdown",
   "id": "5ee6cb2c",
   "metadata": {},
   "source": [
    "### Plot ROC Curve"
   ]
  },
  {
   "cell_type": "code",
   "execution_count": 114,
   "id": "674b7dfa",
   "metadata": {},
   "outputs": [
    {
     "data": {
      "image/png": "[encoded data removed]",
      "text/plain": [
       "<Figure size 720x576 with 1 Axes>"
      ]
     },
     "metadata": {
      "needs_background": "light"
     },
     "output_type": "display_data"
    }
   ],
   "source": [
    "from matplotlib.pyplot import figure\n",
    "\n",
    "plt.figure(figsize = (10,8))\n",
    "plt.plot(r_fpr, r_tpr, linestyle = \"--\", label = 'Random Chance Prediction AUROC: %0.3f' %r_auc)\n",
    "plt.plot(RF_fpr, RF_tpr, marker = \".\", label = 'Random Forest AUROC:  %0.3f' %RF_auc)\n",
    "plt.plot(LRC_fpr, LRC_tpr, marker = \".\", label = 'Logistic Regression Classifier AUROC: %0.3f'%LRC_auc)\n",
    "plt.plot(SVM_fpr, SVM_tpr, marker = \".\", label = 'Support Vector Machine AUROC: %0.3f' %SVM_auc)\n",
    "plt.plot(KNN_fpr, KNN_tpr, marker = \".\", label = 'KNN Classifier AUROC: %0.3f' %KNN_auc)\n",
    "plt.plot(NBC_fpr, NBC_tpr, marker = \".\", label = 'Naive Bayes Classifier AUROC: %0.3f' %NBC_auc)\n",
    "plt.plot(XGB_fpr, XGB_tpr, marker = \".\", label = 'XGB Regression Classifier AUROC: %0.3f' %XGB_auc)\n",
    "plt.plot(GBC_fpr, GBC_tpr, marker = \".\", label = 'Gradient Boosting Classifier AUROC: %0.3f' %GBC_auc)\n",
    "\n",
    "# TITLE\n",
    "plt.title('ROC Plot')\n",
    "# Axis Label\n",
    "plt.xlabel('False Positive Rate')\n",
    "plt.ylabel('True Positive Rate')\n",
    "# Legend\n",
    "plt.legend()\n",
    "# show plot\n",
    "plt.show()"
   ]
  },
  {
   "cell_type": "code",
   "execution_count": null,
   "id": "d4cf47e9",
   "metadata": {},
   "outputs": [],
   "source": []
  }
 ],
 "metadata": {
  "kernelspec": {
   "display_name": "Python 3",
   "language": "python",
   "name": "python3"
  },
  "language_info": {
   "codemirror_mode": {
    "name": "ipython",
    "version": 3
   },
   "file_extension": ".py",
   "mimetype": "text/x-python",
   "name": "python",
   "nbconvert_exporter": "python",
   "pygments_lexer": "ipython3",
   "version": "3.9.4"
  }
 },
 "nbformat": 4,
 "nbformat_minor": 5
}
